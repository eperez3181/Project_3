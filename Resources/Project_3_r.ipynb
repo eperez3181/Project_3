{
 "cells": [
  {
   "cell_type": "markdown",
   "metadata": {},
   "source": [
    "   # Title"
   ]
  },
  {
   "cell_type": "code",
   "execution_count": 1,
   "metadata": {},
   "outputs": [],
   "source": [
    "import pandas as pd\n",
    "from sqlalchemy import create_engine\n",
    "from sqlalchemy.inspection import inspect\n",
    "from config import username, password, host, port, protocol\n",
    "import matplotlib.pyplot as plt\n"
   ]
  },
  {
   "cell_type": "markdown",
   "metadata": {},
   "source": [
    "## Extract files into DataFrames "
   ]
  },
  {
   "cell_type": "markdown",
   "metadata": {},
   "source": []
  },
  {
   "cell_type": "code",
   "execution_count": null,
   "metadata": {},
   "outputs": [],
   "source": [
    "# Read population_2019 CSV Head\n",
    "population_2019 = \"export-2019.csv\"\n",
    "population_2019_df = pd.read_csv(population_2019)\n",
    "population_2019_df.head()"
   ]
  },
  {
   "cell_type": "code",
   "execution_count": null,
   "metadata": {},
   "outputs": [],
   "source": [
    "# Read population_2020 CSV Head\n",
    "population_2020= \"export-2020.csv\"\n",
    "population_2020_df = pd.read_csv(population_2020)\n",
    "population_2020_df.head()"
   ]
  },
  {
   "cell_type": "code",
   "execution_count": null,
   "metadata": {},
   "outputs": [],
   "source": [
    "# Read population_2021 CSV Head\n",
    "population_2021= \"export-2021.csv\"\n",
    "population_2021_df = pd.read_csv(population_2021)\n",
    "population_2021_df.head()"
   ]
  },
  {
   "cell_type": "code",
   "execution_count": null,
   "metadata": {},
   "outputs": [],
   "source": [
    "# Read population_2022 CSV Head\n",
    "population_2022= \"export-2022.csv\"\n",
    "population_2022_df = pd.read_csv(population_2022)\n",
    "population_2022_df.head()"
   ]
  },
  {
   "cell_type": "code",
   "execution_count": null,
   "metadata": {},
   "outputs": [],
   "source": [
    "# Read Inflation CSV Head\n",
    "from sqlalchemy import true\n",
    "\n",
    "WHO_global_data = \"WHO-COVID-19-global-table-data1.csv\"\n",
    "WHO_global_data_df = pd.read_csv(WHO_global_data, sep=',')\n",
    "WHO_global_data_df.head()"
   ]
  },
  {
   "cell_type": "markdown",
   "metadata": {},
   "source": [
    "## Transform DataFrames "
   ]
  },
  {
   "cell_type": "code",
   "execution_count": null,
   "metadata": {},
   "outputs": [],
   "source": [
    "# Selecting only columns needed\n",
    "population_2019_df_cols = [\"Row\", \"Country/Area Name\", \"Year\", \"Population\", \"Male Population\", \"Female Population\", \"Annual Growth Rate %\"]\n",
    "population_2019_df_transformed = population_2019_df[population_2019_df_cols].copy()\n",
    "\n",
    "\n",
    "# Rename the column headers\n",
    "population_2019_df_transformed = population_2019_df_transformed.rename(columns={\"Row\": \"id\",\n",
    "                                                                            \"Country/Area Name\": \"country\",\n",
    "                                                                            \"Year\": \"year\",\n",
    "                                                                            \"Population\": \"population\",\n",
    "                                                                            \"Male Population\": \"male_population\",\n",
    "                                                                            \"Female Population\": \"female_population\",\n",
    "                                                                            \"Annual Growth Rate %\": \"annual_growth_rate\"})\n",
    "\n",
    "\n",
    "# Set index\n",
    "#population_2019_df_transformed.set_index([\"year\", \"country\"], inplace=True)\n",
    "\n",
    "population_2019_df_transformed.head()"
   ]
  },
  {
   "cell_type": "code",
   "execution_count": null,
   "metadata": {},
   "outputs": [],
   "source": [
    "# Selecting only columns needed\n",
    "population_2020_df_cols = [\"Row\", \"Country/Area Name\", \"Year\", \"Population\", \"Male Population\", \"Female Population\", \"Annual Growth Rate %\"]\n",
    "population_2020_df_transformed = population_2020_df[population_2020_df_cols].copy()\n",
    "\n",
    "\n",
    "# Rename the column headers\n",
    "population_2020_df_transformed = population_2020_df_transformed.rename(columns={\"Row\": \"id\",\n",
    "                                                                            \"Country/Area Name\": \"country\",\n",
    "                                                                            \"Year\": \"year\",\n",
    "                                                                            \"Population\": \"population\",\n",
    "                                                                            \"Male Population\": \"male_population\",\n",
    "                                                                            \"Female Population\": \"female_population\",\n",
    "                                                                            \"Annual Growth Rate %\": \"annual_growth_rate\"})\n",
    "\n",
    "\n",
    "# Set index\n",
    "#population_2019_df_transformed.set_index([\"year\", \"country\"], inplace=True)\n",
    "\n",
    "population_2020_df_transformed.head()"
   ]
  },
  {
   "cell_type": "code",
   "execution_count": null,
   "metadata": {},
   "outputs": [],
   "source": [
    "# Selecting only columns needed\n",
    "population_2021_df_cols = [\"Row\", \"Country/Area Name\", \"Year\", \"Population\", \"Male Population\", \"Female Population\", \"Annual Growth Rate %\"]\n",
    "population_2021_df_transformed = population_2021_df[population_2021_df_cols].copy()\n",
    "\n",
    "\n",
    "# Rename the column headers\n",
    "population_2021_df_transformed = population_2021_df_transformed.rename(columns={\"Row\": \"id\",\n",
    "                                                                            \"Country/Area Name\": \"country\",\n",
    "                                                                            \"Year\": \"year\",\n",
    "                                                                            \"Population\": \"population\",\n",
    "                                                                            \"Male Population\": \"male_population\",\n",
    "                                                                            \"Female Population\": \"female_population\",\n",
    "                                                                            \"Annual Growth Rate %\": \"annual_growth_rate\"})\n",
    "\n",
    "\n",
    "# Set index\n",
    "#population_2019_df_transformed.set_index([\"year\", \"country\"], inplace=True)\n",
    "\n",
    "population_2021_df_transformed.head()"
   ]
  },
  {
   "cell_type": "code",
   "execution_count": null,
   "metadata": {},
   "outputs": [],
   "source": [
    "# Selecting only columns needed\n",
    "population_2022_df_cols = [\"Row\", \"Country/Area Name\", \"Year\", \"Population\", \"Male Population\", \"Female Population\", \"Annual Growth Rate %\"]\n",
    "population_2022_df_transformed = population_2022_df[population_2022_df_cols].copy()\n",
    "\n",
    "\n",
    "# Rename the column headers\n",
    "population_2022_df_transformed = population_2022_df_transformed.rename(columns={\"Row\": \"id\",\n",
    "                                                                            \"Country/Area Name\": \"country\",\n",
    "                                                                            \"Year\": \"year\",\n",
    "                                                                            \"Population\": \"population\",\n",
    "                                                                            \"Male Population\": \"male_population\",\n",
    "                                                                            \"Female Population\": \"female_population\",\n",
    "                                                                            \"Annual Growth Rate %\": \"annual_growth_rate\"})\n",
    "\n",
    "\n",
    "# Set index\n",
    "#population_2019_df_transformed.set_index([\"year\", \"country\"], inplace=True)\n",
    "\n",
    "population_2022_df_transformed.head()"
   ]
  },
  {
   "cell_type": "code",
   "execution_count": null,
   "metadata": {},
   "outputs": [],
   "source": [
    "population_2022_df_transformed.dtypes"
   ]
  },
  {
   "cell_type": "code",
   "execution_count": null,
   "metadata": {},
   "outputs": [],
   "source": [
    "# Selecting only columns needed\n",
    "WHO_global_data_df_cols = [\"Name\", \"WHO Region\", \"Cases - cumulative total\", \"Cases - newly reported in last 7 days\", \"Cases - newly reported in last 24 hours\",\n",
    "                         \"Deaths - cumulative total\", \"Deaths - newly reported in last 7 days\", \"Deaths - newly reported in last 24 hours\"]\n",
    "WHO_global_data_df_transformed = WHO_global_data_df[WHO_global_data_df_cols].copy()\n",
    "\n",
    "\n",
    "# Rename the column headers\n",
    "WHO_global_data_df_transformed = WHO_global_data_df_transformed.rename(columns={\"Name\": \"country\", \n",
    "                                                                            \"WHO Region\": \"region\", \n",
    "                                                                            \"Cases - cumulative total\": \"total_cases\", \n",
    "                                                                            \"Cases - newly reported in last 7 days\": \"cases_in_last_7days\", \n",
    "                                                                            \"Cases - newly reported in last 24 hours\": \"cases_in_last_24hrs\",\n",
    "                                                                            \"Deaths - cumulative total\": \"total_deaths\", \n",
    "                                                                            \"Deaths - newly reported in last 7 days\": \"deaths_in_last_7days\", \n",
    "                                                                            \"Deaths - newly reported in last 24 hours\": \"deaths_in_last_24hrs\"})\n",
    "\n",
    "\n",
    "# Set index\n",
    "#population_2019_df_transformed.set_index([\"year\", \"country\"], inplace=True)\n",
    "\n",
    "WHO_global_data_df_transformed.head()"
   ]
  },
  {
   "cell_type": "markdown",
   "metadata": {},
   "source": [
    "### Create database connection"
   ]
  },
  {
   "cell_type": "code",
   "execution_count": null,
   "metadata": {},
   "outputs": [],
   "source": [
    "database_name=\"covid_db\"\n",
    "rds_connection_string = f'{protocol}://{username}:{password}@{host}:{port}/{database_name}'\n",
    "engine = create_engine(rds_connection_string)\n",
    "inspector = inspect(engine)"
   ]
  },
  {
   "cell_type": "code",
   "execution_count": null,
   "metadata": {},
   "outputs": [],
   "source": [
    "# Confirm tables\n",
    "inspector.get_table_names()"
   ]
  },
  {
   "cell_type": "markdown",
   "metadata": {},
   "source": [
    "### Use pandas to load DataFrames into database"
   ]
  },
  {
   "cell_type": "code",
   "execution_count": null,
   "metadata": {},
   "outputs": [],
   "source": [
    "population_2019_df_transformed.to_sql(name='population_2019', con=engine, if_exists='replace', index=False)"
   ]
  },
  {
   "cell_type": "code",
   "execution_count": null,
   "metadata": {},
   "outputs": [],
   "source": [
    "population_2020_df_transformed.to_sql(name='population_2020', con=engine, if_exists='replace', index=False)"
   ]
  },
  {
   "cell_type": "code",
   "execution_count": null,
   "metadata": {},
   "outputs": [],
   "source": [
    "population_2021_df_transformed.to_sql(name='population_2021', con=engine, if_exists='replace', index=False)"
   ]
  },
  {
   "cell_type": "code",
   "execution_count": null,
   "metadata": {},
   "outputs": [],
   "source": [
    "population_2022_df_transformed.to_sql(name='population_2022', con=engine, if_exists='replace', index=False)"
   ]
  },
  {
   "cell_type": "code",
   "execution_count": null,
   "metadata": {},
   "outputs": [],
   "source": [
    "WHO_global_data_df_transformed.to_sql(name='global_data', con=engine, if_exists='replace', index=True)"
   ]
  },
  {
   "cell_type": "markdown",
   "metadata": {},
   "source": [
    "### Confirm data has been added by querying the tables"
   ]
  },
  {
   "cell_type": "code",
   "execution_count": null,
   "metadata": {},
   "outputs": [],
   "source": [
    "pop_2019 =pd.read_sql_query(\"SELECT * FROM population_2019\", con=engine)\n",
    "pop_2019.head()"
   ]
  },
  {
   "cell_type": "code",
   "execution_count": null,
   "metadata": {},
   "outputs": [],
   "source": [
    "pop_2020 =pd.read_sql_query(\"SELECT * FROM population_2020\", con=engine)\n",
    "pop_2020.head()"
   ]
  },
  {
   "cell_type": "code",
   "execution_count": null,
   "metadata": {},
   "outputs": [],
   "source": [
    "pop_2021 =pd.read_sql_query(\"SELECT * FROM population_2021\", con=engine)\n",
    "pop_2021.head()"
   ]
  },
  {
   "cell_type": "code",
   "execution_count": null,
   "metadata": {},
   "outputs": [],
   "source": [
    "pop_2019 =pd.read_sql_query(\"SELECT * FROM population_2019\", con=engine)\n",
    "pop_2019.head()"
   ]
  },
  {
   "cell_type": "code",
   "execution_count": null,
   "metadata": {},
   "outputs": [],
   "source": [
    "pop_2022 =pd.read_sql_query(\"SELECT * FROM population_2019\", con=engine)\n",
    "pop_2022.head()"
   ]
  },
  {
   "cell_type": "code",
   "execution_count": null,
   "metadata": {},
   "outputs": [],
   "source": [
    "global_data =pd.read_sql_query(\"SELECT * FROM global_data\", con=engine)\n",
    "global_data.head()"
   ]
  },
  {
   "cell_type": "code",
   "execution_count": null,
   "metadata": {},
   "outputs": [],
   "source": [
    "join1 = pd.merge(left = pop_2019, right = global_data, how = 'inner', on = 'country' )\n",
    "join1.head()"
   ]
  },
  {
   "cell_type": "code",
   "execution_count": null,
   "metadata": {},
   "outputs": [],
   "source": [
    "join2 = pd.merge(left = global_data, right = pop_2022, how = 'inner', on = 'country' )\n",
    "join2.head()"
   ]
  },
  {
   "cell_type": "code",
   "execution_count": null,
   "metadata": {},
   "outputs": [],
   "source": [
    "join3 = pd.merge(left = join2, right = pop_2021, how = \"inner\", on = 'country' )\n",
    "join3.head()"
   ]
  },
  {
   "cell_type": "code",
   "execution_count": null,
   "metadata": {},
   "outputs": [],
   "source": [
    "global_data['region'].unique()"
   ]
  },
  {
   "cell_type": "code",
   "execution_count": null,
   "metadata": {},
   "outputs": [],
   "source": [
    "# Read Timeline CSV Head\n",
    "timeline = \"global_covid_timeline.csv\"\n",
    "timeline_df = pd.read_csv(timeline)\n",
    "timeline_df.head()\n"
   ]
  },
  {
   "cell_type": "code",
   "execution_count": null,
   "metadata": {
    "scrolled": true
   },
   "outputs": [],
   "source": [
    "global_data.sort_values(by='total_cases', ascending=False).head(11)"
   ]
  },
  {
   "cell_type": "markdown",
   "metadata": {},
   "source": [
    "#### Filter Timeline"
   ]
  },
  {
   "cell_type": "code",
   "execution_count": null,
   "metadata": {},
   "outputs": [],
   "source": [
    "Timeline_Top_5_covd_df = timeline_df.loc[(timeline_df[\"Date\"] == \"1/1/22\")|\n",
    "                                             (timeline_df[\"Date\"] == \"2/1/22\") |\n",
    "                                             (timeline_df[\"Date\"] == \"3/1/22\") |\n",
    "                                             (timeline_df[\"Date\"] == \"4/1/22\") |\n",
    "                                             (timeline_df[\"Date\"] == \"5/1/22\") |\n",
    "                                             (timeline_df[\"Date\"] == \"6/1/22\"), :]\n",
    "Timeline_Top_5_covd_df.head(5)"
   ]
  },
  {
   "cell_type": "code",
   "execution_count": null,
   "metadata": {},
   "outputs": [],
   "source": [
    "Timeline_Top_5_covid_df = Timeline_Top_5_covd_df.loc[(Timeline_Top_5_covd_df[\"Country\"] == \"United States\")|\n",
    "                                             (Timeline_Top_5_covd_df[\"Country\"] == \"Brazil\") |\n",
    "                                             (Timeline_Top_5_covd_df[\"Country\"] == \"India\") |\n",
    "                                             (Timeline_Top_5_covd_df[\"Country\"] == \"Germany\") |\n",
    "                                             (Timeline_Top_5_covd_df[\"Country\"] == \"France\"), :]\n",
    "Timeline_Top_5_covid_df.head(10)"
   ]
  },
  {
   "cell_type": "markdown",
   "metadata": {},
   "source": [
    "### Top 5 Countries Confirmed Deaths"
   ]
  },
  {
   "cell_type": "code",
   "execution_count": null,
   "metadata": {},
   "outputs": [],
   "source": [
    "\n",
    "# Identify each country\n",
    "United_States = Timeline_Top_5_covid_df.loc[Timeline_Top_5_covid_df['Country'] == 'United States']\n",
    "Brazil = Timeline_Top_5_covid_df.loc[Timeline_Top_5_covid_df['Country'] == 'Brazil']\n",
    "India = Timeline_Top_5_covid_df.loc[Timeline_Top_5_covid_df['Country'] == 'India']\n",
    "Germany = Timeline_Top_5_covid_df.loc[Timeline_Top_5_covid_df['Country'] == 'Germany']\n",
    "France = Timeline_Top_5_covid_df.loc[Timeline_Top_5_covid_df['Country'] == 'France']\n",
    "\n",
    "# plot lines\n",
    "United_States, = plt.plot(United_States['Date'],United_States['Confirmed Deaths'], label='United States')\n",
    "Brazil, = plt.plot(Brazil['Date'],Brazil['Confirmed Deaths'], label='Brazil')\n",
    "India, = plt.plot(India['Date'],India['Confirmed Deaths'], label='India')\n",
    "Germany, = plt.plot(Germany['Date'],Germany['Confirmed Deaths'], label='Germany')\n",
    "France, = plt.plot(France['Date'],France['Confirmed Deaths'], label='France')\n",
    "\n",
    "# Set our legend to where the chart thinks is best\n",
    "plt.legend(handles=[United_States, Brazil, India, Germany, France], loc=\"best\")\n",
    "\n",
    "# Add in a grid for the chart\n",
    "plt.grid()\n",
    "\n",
    "# Add labels and title to plot\n",
    "plt.xlabel(\"Dates\")\n",
    "plt.ylabel(\"Death\")\n",
    "plt.title(\"Top 5 Highset Covid Deaths\")\n",
    "\n",
    "\n",
    "\n",
    "# save Chart\n",
    "plt.savefig(\"../Top_5_Timeline_Deaths\")\n",
    "\n",
    "# Display plot\n",
    "plt.show()\n"
   ]
  },
  {
   "cell_type": "markdown",
   "metadata": {},
   "source": [
    "### Top 5 Countries Confirmed Cases"
   ]
  },
  {
   "cell_type": "code",
   "execution_count": null,
   "metadata": {},
   "outputs": [],
   "source": [
    "\n",
    "# Identify each country\n",
    "United_States = Timeline_Top_5_covid_df.loc[Timeline_Top_5_covid_df['Country'] == 'United States']\n",
    "Brazil = Timeline_Top_5_covid_df.loc[Timeline_Top_5_covid_df['Country'] == 'Brazil']\n",
    "India = Timeline_Top_5_covid_df.loc[Timeline_Top_5_covid_df['Country'] == 'India']\n",
    "Germany = Timeline_Top_5_covid_df.loc[Timeline_Top_5_covid_df['Country'] == 'Germany']\n",
    "France = Timeline_Top_5_covid_df.loc[Timeline_Top_5_covid_df['Country'] == 'France']\n",
    "\n",
    "# plot lines\n",
    "United_States, = plt.plot(United_States['Date'],United_States['Confirmed Cases'], label='United States')\n",
    "Brazil, = plt.plot(Brazil['Date'],Brazil['Confirmed Cases'], label='Brazil')\n",
    "India, = plt.plot(India['Date'],India['Confirmed Cases'], label='India')\n",
    "Germany, = plt.plot(Germany['Date'],Germany['Confirmed Cases'], label='Germany')\n",
    "France, = plt.plot(France['Date'],France['Confirmed Cases'], label='France')\n",
    "\n",
    "# Set our legend to where the chart thinks is best\n",
    "plt.legend(handles=[United_States, Brazil, India, Germany, France], loc=\"best\")\n",
    "\n",
    "# Add in a grid for the chart\n",
    "plt.grid()\n",
    "\n",
    "# Add labels and title to plot\n",
    "plt.xlabel(\"Dates\")\n",
    "plt.ylabel(\"Death\")\n",
    "plt.title(\"Top 5 Highset Covid Cases\")\n",
    "\n",
    "# save Chart\n",
    "plt.savefig(\"../Top_5_Timeline_Cases\")\n",
    "\n",
    "# Display plot\n",
    "plt.show()"
   ]
  }
 ],
 "metadata": {
  "kernelspec": {
   "display_name": "Python 3 (ipykernel)",
   "language": "python",
   "name": "python3"
  },
  "language_info": {
   "codemirror_mode": {
    "name": "ipython",
    "version": 3
   },
   "file_extension": ".py",
   "mimetype": "text/x-python",
   "name": "python",
   "nbconvert_exporter": "python",
   "pygments_lexer": "ipython3",
   "version": "3.9.7"
  },
  "vscode": {
   "interpreter": {
    "hash": "d72fed8f25ec0a55c000bf02f5cb9d69056c3a3adcffc7cf73e7458ae097a622"
   }
  }
 },
 "nbformat": 4,
 "nbformat_minor": 2
}
